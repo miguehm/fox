{
 "cells": [
  {
   "cell_type": "code",
   "execution_count": 93,
   "metadata": {},
   "outputs": [],
   "source": [
    "import numpy as np\n",
    "import cProfile\n",
    "import matplotlib.pyplot as plt\n",
    "\n",
    "from mpi4py import MPI\n",
    "from time   import time"
   ]
  },
  {
   "cell_type": "code",
   "execution_count": 94,
   "metadata": {},
   "outputs": [],
   "source": [
    "def fox(exponent: int, isMultithreaded: bool) -> float:\n",
    "\n",
    "    if isMultithreaded:\n",
    "        comm = MPI.COMM_WORLD  # get the communicator object\n",
    "        size = comm.Get_size() # total number of processes\n",
    "        rank = comm.Get_rank() # rank of this process\n",
    "    else:\n",
    "        comm = None\n",
    "        size = 1\n",
    "        rank = 0\n",
    "\n",
    "    np.random.seed(69)  # set the seed for the random numbers generator\n",
    "                        # so that the same numbers are generated in each process \n",
    "\n",
    "    if isMultithreaded and rank == 0: # if the process is the master \n",
    "\n",
    "        MATRIX_SIZE = 2**exponent\n",
    "        # generate two random matrix of size MATRIX_SIZE\n",
    "        matrix_A    = np.random.randint(1000, 2000, (MATRIX_SIZE, MATRIX_SIZE)) \n",
    "        matrix_B    = np.random.randint(1000, 2000, (MATRIX_SIZE, MATRIX_SIZE)) \n",
    "        # initialize the matrix C with zeros\n",
    "        matrix_C    = np.zeros((MATRIX_SIZE, MATRIX_SIZE), dtype=int)\n",
    "        data        = (MATRIX_SIZE, matrix_A, matrix_B, matrix_C)\n",
    "    elif not isMultithreaded:\n",
    "        MATRIX_SIZE = 2**exponent\n",
    "        # generate two random matrix of size MATRIX_SIZE\n",
    "        matrix_A    = np.random.randint(1000, 2000, (MATRIX_SIZE, MATRIX_SIZE)) \n",
    "        matrix_B    = np.random.randint(1000, 2000, (MATRIX_SIZE, MATRIX_SIZE)) \n",
    "        # initialize the matrix C with zeros\n",
    "        matrix_C    = np.zeros((MATRIX_SIZE, MATRIX_SIZE), dtype=int)\n",
    "        data        = (MATRIX_SIZE, matrix_A, matrix_B, matrix_C)\n",
    "    else:\n",
    "        data = None\n",
    "\n",
    "    if isMultithreaded:\n",
    "        data = comm.bcast(data, root=0)                  # broadcast the data to all processes\n",
    "    \n",
    "    MATRIX_SIZE, matrix_A, matrix_B, matrix_C = data # unpack the data\n",
    "\n",
    "    start_time = time()\n",
    "    for row_i in range(MATRIX_SIZE): \n",
    "        # Each process calculates a row of the matrix C\n",
    "        # The process with rank i calculates the row i of the matrix C\n",
    "        # The row i of the matrix C is the sum of the rows of the matrix A multiplied by the matrix B\n",
    "\n",
    "        if rank == row_i % size and rank < MATRIX_SIZE: # this ensures that each process calculates a row of the matrix C without repeating rows\n",
    "            for i in range(MATRIX_SIZE):\n",
    "                # a[row_i, row_i] gets shifted to the right by i positions\n",
    "                # and b[row_i] gets shifted to the bottom by i positions\n",
    "                col = (row_i + i) % MATRIX_SIZE\n",
    "                matrix_C[row_i] += matrix_A[row_i, col] * matrix_B[col] \n",
    "\n",
    "        # The rows of the matrix C are distributed among the processes using the MPI_Allreduce function\n",
    "        # The MPI_Allreduce function sums the rows of the matrix C calculated by each process\n",
    "        comm.Allreduce(MPI.IN_PLACE, matrix_C[row_i], op=MPI.SUM)\n",
    "\n",
    "    if rank == 0:\n",
    "        end_time = time() - start_time\n",
    "        # print(f'Matriz A:\\n{repr(matrix_A)}\\n')\n",
    "        # print(f'Matriz B:\\n{repr(matrix_B)}\\n')\n",
    "        # # print(f'Matriz C (RESULTADO):\\n{repr(matrix_C)}')\n",
    "        # np.savetxt('arrayA.txt', matrix_A, fmt='%d')\n",
    "        # np.savetxt('arrayB.txt', matrix_B, fmt='%d')\n",
    "        # np.savetxt('result.txt', matrix_C, fmt='%d')\n",
    "        # print(f\"Tiempo de ejecución: {end_time:.2} segundos\")\n",
    "        return end_time"
   ]
  },
  {
   "cell_type": "code",
   "execution_count": 95,
   "metadata": {},
   "outputs": [],
   "source": [
    "\n",
    "def graphs():\n",
    "    times_MPI = {}\n",
    "    times_SEC = {}\n",
    "    for exponent in range(6, 9):\n",
    "        times_MPI[exponent] = np.zeros(5)\n",
    "        times_SEC[exponent] = np.zeros(5)\n",
    "        for i in range(5):\n",
    "            times_MPI[exponent][i] = fox(exponent, True)\n",
    "            times_SEC[exponent][i] = fox(exponent, False)\n",
    "    \n",
    "    fig, ax = plt.subplots()\n",
    "    y = [np.mean(times_MPI[exponent]) for exponent in times_MPI]\n",
    "    x = [exponent for exponent in times_MPI]\n",
    "    x_labels = [str(2**exponent) for exponent in times_MPI]\n",
    "    plt.figure(figsize=(10, 5))\n",
    "    plt.title('Tiempo de ejecución del algoritmo Fox\\nMatrices de números enteros.')\n",
    "    plt.xlabel('Orden de la Matriz')\n",
    "    plt.xticks(x, x_labels)\n",
    "    plt.yticks([]) \n",
    "    bars = plt.bar(x, y, label='MPI')\n",
    "\n",
    "    for bar in bars:\n",
    "        yval = bar.get_height()\n",
    "        plt.text(bar.get_x() + bar.get_width()/2.0, yval, f'{yval:.5}s', va='bottom', ha='center')  # va: vertical alignment\n",
    "\n",
    "    plt.show()"
   ]
  },
  {
   "cell_type": "code",
   "execution_count": 96,
   "metadata": {},
   "outputs": [
    {
     "ename": "TypeError",
     "evalue": "unsupported operand type(s) for %: 'int' and 'NoneType'",
     "output_type": "error",
     "traceback": [
      "\u001b[1;31m---------------------------------------------------------------------------\u001b[0m",
      "\u001b[1;31mTypeError\u001b[0m                                 Traceback (most recent call last)",
      "\u001b[1;32mUntitled-1.ipynb Cell 4\u001b[0m line \u001b[0;36m1\n\u001b[1;32m----> <a href='vscode-notebook-cell:Untitled-1.ipynb?jupyter-notebook#W3sdW50aXRsZWQ%3D?line=0'>1</a>\u001b[0m graphs()\n",
      "\u001b[1;32mUntitled-1.ipynb Cell 4\u001b[0m line \u001b[0;36m9\n\u001b[0;32m      <a href='vscode-notebook-cell:Untitled-1.ipynb?jupyter-notebook#W3sdW50aXRsZWQ%3D?line=6'>7</a>\u001b[0m     \u001b[39mfor\u001b[39;00m i \u001b[39min\u001b[39;00m \u001b[39mrange\u001b[39m(\u001b[39m5\u001b[39m):\n\u001b[0;32m      <a href='vscode-notebook-cell:Untitled-1.ipynb?jupyter-notebook#W3sdW50aXRsZWQ%3D?line=7'>8</a>\u001b[0m         times_MPI[exponent][i] \u001b[39m=\u001b[39m fox(exponent, \u001b[39mTrue\u001b[39;00m)\n\u001b[1;32m----> <a href='vscode-notebook-cell:Untitled-1.ipynb?jupyter-notebook#W3sdW50aXRsZWQ%3D?line=8'>9</a>\u001b[0m         times_SEC[exponent][i] \u001b[39m=\u001b[39m fox(exponent, \u001b[39mFalse\u001b[39;49;00m)\n\u001b[0;32m     <a href='vscode-notebook-cell:Untitled-1.ipynb?jupyter-notebook#W3sdW50aXRsZWQ%3D?line=10'>11</a>\u001b[0m fig, ax \u001b[39m=\u001b[39m plt\u001b[39m.\u001b[39msubplots()\n\u001b[0;32m     <a href='vscode-notebook-cell:Untitled-1.ipynb?jupyter-notebook#W3sdW50aXRsZWQ%3D?line=11'>12</a>\u001b[0m y \u001b[39m=\u001b[39m [np\u001b[39m.\u001b[39mmean(times_MPI[exponent]) \u001b[39mfor\u001b[39;00m exponent \u001b[39min\u001b[39;00m times_MPI]\n",
      "\u001b[1;32mUntitled-1.ipynb Cell 4\u001b[0m line \u001b[0;36m4\n\u001b[0;32m     <a href='vscode-notebook-cell:Untitled-1.ipynb?jupyter-notebook#W3sdW50aXRsZWQ%3D?line=38'>39</a>\u001b[0m start_time \u001b[39m=\u001b[39m time()\n\u001b[0;32m     <a href='vscode-notebook-cell:Untitled-1.ipynb?jupyter-notebook#W3sdW50aXRsZWQ%3D?line=39'>40</a>\u001b[0m \u001b[39mfor\u001b[39;00m row_i \u001b[39min\u001b[39;00m \u001b[39mrange\u001b[39m(MATRIX_SIZE): \n\u001b[0;32m     <a href='vscode-notebook-cell:Untitled-1.ipynb?jupyter-notebook#W3sdW50aXRsZWQ%3D?line=40'>41</a>\u001b[0m     \u001b[39m# Each process calculates a row of the matrix C\u001b[39;00m\n\u001b[0;32m     <a href='vscode-notebook-cell:Untitled-1.ipynb?jupyter-notebook#W3sdW50aXRsZWQ%3D?line=41'>42</a>\u001b[0m     \u001b[39m# The process with rank i calculates the row i of the matrix C\u001b[39;00m\n\u001b[0;32m     <a href='vscode-notebook-cell:Untitled-1.ipynb?jupyter-notebook#W3sdW50aXRsZWQ%3D?line=42'>43</a>\u001b[0m     \u001b[39m# The row i of the matrix C is the sum of the rows of the matrix A multiplied by the matrix B\u001b[39;00m\n\u001b[1;32m---> <a href='vscode-notebook-cell:Untitled-1.ipynb?jupyter-notebook#W3sdW50aXRsZWQ%3D?line=44'>45</a>\u001b[0m     \u001b[39mif\u001b[39;00m rank \u001b[39m==\u001b[39m row_i \u001b[39m%\u001b[39;49m size \u001b[39mand\u001b[39;00m rank \u001b[39m<\u001b[39m MATRIX_SIZE: \u001b[39m# this ensures that each process calculates a row of the matrix C without repeating rows\u001b[39;00m\n\u001b[0;32m     <a href='vscode-notebook-cell:Untitled-1.ipynb?jupyter-notebook#W3sdW50aXRsZWQ%3D?line=45'>46</a>\u001b[0m         \u001b[39mfor\u001b[39;00m i \u001b[39min\u001b[39;00m \u001b[39mrange\u001b[39m(MATRIX_SIZE):\n\u001b[0;32m     <a href='vscode-notebook-cell:Untitled-1.ipynb?jupyter-notebook#W3sdW50aXRsZWQ%3D?line=46'>47</a>\u001b[0m             \u001b[39m# a[row_i, row_i] gets shifted to the right by i positions\u001b[39;00m\n\u001b[0;32m     <a href='vscode-notebook-cell:Untitled-1.ipynb?jupyter-notebook#W3sdW50aXRsZWQ%3D?line=47'>48</a>\u001b[0m             \u001b[39m# and b[row_i] gets shifted to the bottom by i positions\u001b[39;00m\n\u001b[0;32m     <a href='vscode-notebook-cell:Untitled-1.ipynb?jupyter-notebook#W3sdW50aXRsZWQ%3D?line=48'>49</a>\u001b[0m             col \u001b[39m=\u001b[39m (row_i \u001b[39m+\u001b[39m i) \u001b[39m%\u001b[39m MATRIX_SIZE\n",
      "\u001b[1;31mTypeError\u001b[0m: unsupported operand type(s) for %: 'int' and 'NoneType'"
     ]
    }
   ],
   "source": [
    "graphs()"
   ]
  }
 ],
 "metadata": {
  "kernelspec": {
   "display_name": "Python 3",
   "language": "python",
   "name": "python3"
  },
  "language_info": {
   "codemirror_mode": {
    "name": "ipython",
    "version": 3
   },
   "file_extension": ".py",
   "mimetype": "text/x-python",
   "name": "python",
   "nbconvert_exporter": "python",
   "pygments_lexer": "ipython3",
   "version": "3.11.3"
  }
 },
 "nbformat": 4,
 "nbformat_minor": 2
}
